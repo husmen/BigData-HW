{
 "cells": [
  {
   "cell_type": "markdown",
   "metadata": {},
   "source": [
    "## BLM442 Keşif aktivitesi-2: SQLite üzerinde veri analizi"
   ]
  },
  {
   "cell_type": "markdown",
   "metadata": {},
   "source": [
    "#### İsim/Soyisim: Houssem MENHOUR\n",
    "#### Öğrenci Numarası: 140201115\n",
    "#### E-mail: husmen93@gmail.com\n",
    "#### Kullanılan dataset adı: The Economic Freedom Index\n",
    "#### Dataset url: https://www.kaggle.com/lewisduncan93/the-economic-freedom-index"
   ]
  },
  {
   "cell_type": "markdown",
   "metadata": {},
   "source": [
    "#### İntihal: \n",
    "Netten alınacak kısmi kod parçaları önceden kod içinde/raporda belirtilmek ve soru sorulduğunda cevaplanması durumunda sıkıntı çıkarmayacaktır. (i) Internet kaynağını belirtmeyen/açıklayamayan/üzerinde geliştirme yapmayan veya (ii) birbirleriyle benzer/aynı çalışma teslim edenlerin aktiviteleri sıfır üzerinden değerlendirilecektir."
   ]
  },
  {
   "cell_type": "markdown",
   "metadata": {},
   "source": [
    "#### KA-2 Gönderim şekli"
   ]
  },
  {
   "cell_type": "markdown",
   "metadata": {},
   "source": [
    "1-pdf olarak \"ogrenciNo.pdf\" dokumanını gonderme\n",
    "-calisma dosyasında (File -> Print Preview) sonrası olusan html dosyasını yazdır deyip pdf olarak kaydetme veya\n",
    "-(File -> Download as -> HTML) seklinde indirip pdf'e cevirme http://html2pdf.com/\n",
    "\n",
    "2-(File -> Download as -> Notebook) indirip \"ogrenciNo.ipynb\" dokumanını gonderme\n",
    "\n",
    "suleyman.eken@kocaeli.edu.tr"
   ]
  },
  {
   "cell_type": "markdown",
   "metadata": {},
   "source": [
    "Problemlerinizin SELECT, WHERE, ORDER BY, SELECT TOP, LIKE, IN, BETWEEN, AS, INTERSECT, GROUP BY, HAVING, COUNT(), MIN() and MAX(), AVG(), SUM(), INNER JOIN, RIGHT (OUTER) JOIN, LEFT (OUTER) JOIN vs. keyword'lerinden birkaçını içermesini sağlayınız."
   ]
  },
  {
   "cell_type": "markdown",
   "metadata": {},
   "source": [
    "#### Problem 1: veriseti import edin"
   ]
  },
  {
   "cell_type": "code",
   "execution_count": 1,
   "metadata": {},
   "outputs": [
    {
     "name": "stdout",
     "output_type": "stream",
     "text": []
    }
   ],
   "source": [
    ".mode csv\n",
    ".import economic_freedom_index2019_data.csv EFI\n",
    ".import ORCID_migrations_2016_12_16_by_person.csv ORCID\n",
    ".mode columns\n",
    ".headers on"
   ]
  },
  {
   "cell_type": "markdown",
   "metadata": {},
   "source": [
    "#### Problem 2: mevcut bolegeleri goster"
   ]
  },
  {
   "cell_type": "code",
   "execution_count": 2,
   "metadata": {},
   "outputs": [
    {
     "name": "stdout",
     "output_type": "stream",
     "text": [
      "Region      \r\n",
      "------------\r\n",
      "Asia-Pacific\r\n",
      "Europe      \r\n",
      "Middle East \r\n",
      "Sub-Saharan \r\n",
      "Americas    \r\n"
     ]
    }
   ],
   "source": [
    "select distinct Region from EFI;"
   ]
  },
  {
   "cell_type": "markdown",
   "metadata": {},
   "source": [
    "#### Problem 3: ulkeleri 2019 Score gore sirala"
   ]
  },
  {
   "cell_type": "code",
   "execution_count": 3,
   "metadata": {},
   "outputs": [
    {
     "name": "stdout",
     "output_type": "stream",
     "text": [
      "WEBNAME     2019 Score\r\n",
      "----------  ----------\r\n",
      "Iraq        N/A       \r\n",
      "Libya       N/A       \r\n",
      "Liechtenst  N/A       \r\n",
      "Somalia     N/A       \r\n",
      "Syria       N/A       \r\n",
      "Yemen       N/A       \r\n",
      "HongKong    90.2      \r\n",
      "Singapore   89.4      \r\n",
      "NewZealand  84.4      \r\n",
      "Switzerlan  81.9      \r\n",
      "Australia   80.9      \r\n",
      "Ireland     80.5      \r\n",
      "UnitedKing  78.9      \r\n",
      "Canada      77.7      \r\n",
      "UnitedArab  77.6      \r\n",
      "Taiwan      77.3      \r\n",
      "Iceland     77.1      \r\n",
      "Netherland  76.8      \r\n",
      "UnitedStat  76.8      \r\n",
      "Denmark     76.7      \r\n",
      "Estonia     76.6      \r\n",
      "Georgia     75.9      \r\n",
      "Luxembourg  75.9      \r\n",
      "Chile       75.4      \r\n",
      "Sweden      75.2      \r\n",
      "Finland     74.9      \r\n",
      "Lithuania   74.2      \r\n",
      "Malaysia    74.0      \r\n",
      "CzechRepub  73.7      \r\n",
      "Germany     73.5      \r\n",
      "Mauritius   73.0      \r\n",
      "Norway      73.0      \r\n",
      "Israel      72.8      \r\n",
      "Qatar       72.6      \r\n",
      "SouthKorea  72.3      \r\n",
      "Japan       72.1      \r\n",
      "Austria     72.0      \r\n",
      "Macedonia   71.1      \r\n",
      "Rwanda      71.1      \r\n",
      "Macau       71.0      \r\n",
      "Latvia      70.4      \r\n",
      "Botswana    69.5      \r\n",
      "Bulgaria    69.0      \r\n",
      "SaintLucia  68.7      \r\n",
      "Jamaica     68.6      \r\n",
      "Malta       68.6      \r\n",
      "Romania     68.6      \r\n",
      "Uruguay     68.6      \r\n",
      "Thailand    68.3      \r\n",
      "Cyprus      68.1      \r\n",
      "Peru        67.8      \r\n",
      "Poland      67.8      \r\n",
      "Armenia     67.7      \r\n",
      "Belgium     67.3      \r\n",
      "Colombia    67.3      \r\n",
      "Panama      67.2      \r\n",
      "Kosovo      67.0      \r\n",
      "Albania     66.5      \r\n",
      "Jordan      66.5      \r\n",
      "Bahrain     66.4      \r\n",
      "Indonesia   65.8      \r\n",
      "SaintVince  65.8      \r\n",
      "Spain       65.7      \r\n",
      "Slovenia    65.5      \r\n",
      "Azerbaijan  65.4      \r\n",
      "Kazakhstan  65.4      \r\n",
      "CostaRica   65.3      \r\n",
      "Portugal    65.3      \r\n",
      "Brunei      65.1      \r\n",
      "Hungary     65.0      \r\n",
      "Slovakia    65.0      \r\n",
      "Barbados    64.7      \r\n",
      "Mexico      64.7      \r\n",
      "Turkey      64.6      \r\n",
      "Serbia      63.9      \r\n",
      "France      63.8      \r\n",
      "Philippine  63.8      \r\n",
      "Dominica    63.6      \r\n",
      "CaboVerde   63.1      \r\n",
      "Bahamas     62.9      \r\n",
      "Bhutan      62.9      \r\n",
      "Morocco     62.9      \r\n",
      "Guatemala   62.6      \r\n",
      "CoeDivoire  62.4      \r\n",
      "KyrgyzRepu  62.3      \r\n",
      "Fiji        62.2      \r\n",
      "Italy       62.2      \r\n",
      "Samoa       62.2      \r\n",
      "BosniaHerz  61.9      \r\n",
      "ElSalvador  61.8      \r\n",
      "Paraguay    61.8      \r\n",
      "Croatia     61.4      \r\n",
      "Seychelles  61.4      \r\n",
      "DominicanR  61.0      \r\n",
      "Oman        61.0      \r\n",
      "Kuwait      60.8      \r\n",
      "SaudiArabi  60.7      \r\n",
      "Montenegro  60.5      \r\n",
      "Honduras    60.2      \r\n",
      "Tanzania    60.2      \r\n",
      "Uganda      59.7      \r\n",
      "BurkinaFas  59.4      \r\n",
      "Moldova     59.1      \r\n",
      "Russia      58.9      \r\n",
      "Namibia     58.7      \r\n",
      "China       58.4      \r\n",
      "PapuaNewGu  58.4      \r\n",
      "SouthAfric  58.3      \r\n",
      "Mali        58.1      \r\n",
      "Belarus     57.9      \r\n",
      "Cambodia    57.8      \r\n",
      "Greece      57.7      \r\n",
      "Nicaragua   57.7      \r\n",
      "Tonga       57.7      \r\n",
      "Ghana       57.5      \r\n",
      "Laos        57.4      \r\n",
      "Nigeria     57.3      \r\n",
      "TrinidadTo  57.0      \r\n",
      "Guyana      56.8      \r\n",
      "Madagascar  56.6      \r\n",
      "SriLanka    56.4      \r\n",
      "Vanuatu     56.4      \r\n",
      "Gabon       56.3      \r\n",
      "Senegal     56.3      \r\n",
      "Guinea      55.7      \r\n",
      "Mauritania  55.7      \r\n",
      "Bangladesh  55.6      \r\n",
      "Tajikistan  55.6      \r\n",
      "Belize      55.4      \r\n",
      "Comoros     55.4      \r\n",
      "Mongolia    55.4      \r\n",
      "Tunisia     55.4      \r\n",
      "Benin       55.3      \r\n",
      "Vietnam     55.3      \r\n",
      "India       55.2      \r\n",
      "Kenya       55.1      \r\n",
      "Pakistan    55.0      \r\n",
      "Eswatini    54.7      \r\n",
      "SolomonIsl  54.6      \r\n",
      "GuineaBiss  54.0      \r\n",
      "SaoTomePri  54.0      \r\n",
      "Nepal       53.8      \r\n",
      "Burma       53.6      \r\n",
      "Ethiopia    53.6      \r\n",
      "Zambia      53.6      \r\n",
      "Uzbekistan  53.3      \r\n",
      "Maldives    53.2      \r\n",
      "Lesotho     53.1      \r\n",
      "Haiti       52.7      \r\n",
      "Egypt       52.5      \r\n",
      "Cameroon    52.4      \r\n",
      "Gambia      52.4      \r\n",
      "Ukraine     52.3      \r\n",
      "Argentina   52.2      \r\n",
      "Brazil      51.9      \r\n",
      "Micronesia  51.9      \r\n",
      "Niger       51.6      \r\n",
      "Afghanista  51.5      \r\n",
      "Malawi      51.4      \r\n",
      "Iran        51.1      \r\n",
      "Lebanon     51.1      \r\n",
      "Angola      50.6      \r\n",
      "Demcoratic  50.3      \r\n",
      "Togo        50.3      \r\n",
      "NorthKorea  5.9       \r\n",
      "Chad        49.9      \r\n",
      "Liberia     49.7      \r\n",
      "CentralAfr  49.1      \r\n",
      "Burundi     48.9      \r\n",
      "Mozambique  48.6      \r\n",
      "Turkmenist  48.4      \r\n",
      "Suriname    48.1      \r\n",
      "Sudan       47.7      \r\n",
      "SierraLeon  47.5      \r\n",
      "Kiribati    47.3      \r\n",
      "Djibouti    47.1      \r\n",
      "Ecuador     46.9      \r\n",
      "Algeria     46.2      \r\n",
      "TimorLeste  44.2      \r\n",
      "Bolivia     42.3      \r\n",
      "Equatorial  41.0      \r\n",
      "Zimbabwe    40.4      \r\n",
      "RepublicCo  39.7      \r\n",
      "Eritrea     38.9      \r\n",
      "Cuba        27.8      \r\n",
      "Venezuela   25.9      \r\n"
     ]
    }
   ],
   "source": [
    "select WEBNAME, \"2019 Score\" from EFI order by \"2019 Score\" DESC;"
   ]
  },
  {
   "cell_type": "markdown",
   "metadata": {},
   "source": [
    "#### Problem 4: Europe bolgede toplam GDP"
   ]
  },
  {
   "cell_type": "code",
   "execution_count": 4,
   "metadata": {
    "scrolled": true
   },
   "outputs": [
    {
     "name": "stdout",
     "output_type": "stream",
     "text": [
      "GDP (B$)  \r\n",
      "----------\r\n",
      "28968.4   \r\n"
     ]
    }
   ],
   "source": [
    "select SUM(CAST(REPLACE(REPLACE(IFNULL(\"GDP (Billions, PPP)\",0),',',''),'$','') AS DECIMAL(10,2))) as \"GDP (B$)\"\n",
    "from EFI \n",
    "where Region=\"Europe\";"
   ]
  },
  {
   "cell_type": "markdown",
   "metadata": {},
   "source": [
    "#### Problem 5: Europe bolgede ortalam GDP/Capita"
   ]
  },
  {
   "cell_type": "code",
   "execution_count": 5,
   "metadata": {},
   "outputs": [
    {
     "name": "stdout",
     "output_type": "stream",
     "text": [
      "GDP/Capita ($)  \r\n",
      "----------------\r\n",
      "37101.9777777778\r\n"
     ]
    }
   ],
   "source": [
    "select AVG(CAST(REPLACE(REPLACE(IFNULL(\"GDP per Capita (PPP)\",0),',',''),'$','') AS DECIMAL(10,2))) as \"GDP/Capita ($)\"\n",
    "from EFI \n",
    "where Region=\"Europe\";"
   ]
  },
  {
   "cell_type": "markdown",
   "metadata": {},
   "source": [
    "#### Problem 6: acıklaması eklenecek, cozumu alt kutuda kod cıktısı ile beraber bulunacak"
   ]
  },
  {
   "cell_type": "code",
   "execution_count": 6,
   "metadata": {},
   "outputs": [
    {
     "name": "stdout",
     "output_type": "stream",
     "text": [
      "Region      SUM(\"Population (Millions)\")\r\n",
      "----------  ----------------------------\r\n",
      "Americas    993.9                       \r\n",
      "Asia-Pacif  4158.9                      \r\n",
      "Europe      866.5                       \r\n",
      "Middle Eas  433.3                       \r\n",
      "Sub-Sahara  1014.5                      \r\n"
     ]
    }
   ],
   "source": [
    "Select Region, SUM(\"Population (Millions)\") from EFI group by Region"
   ]
  },
  {
   "cell_type": "markdown",
   "metadata": {},
   "source": [
    "#### Problem 7: GDP/Capita gore ilk 10 ulke goster"
   ]
  },
  {
   "cell_type": "code",
   "execution_count": 7,
   "metadata": {},
   "outputs": [
    {
     "name": "stdout",
     "output_type": "stream",
     "text": [
      "WEBNAME        GDP/Capita ($)\r\n",
      "-------------  --------------\r\n",
      "Liechtenstein  139100        \r\n",
      "Qatar          124529        \r\n",
      "Macau          111629        \r\n",
      "Luxembourg     106374        \r\n",
      "Singapore      93906         \r\n",
      "Brunei         78196         \r\n",
      "Ireland        75538         \r\n",
      "Norway         71831         \r\n",
      "UnitedArabEmi  67741         \r\n",
      "Kuwait         66163         \r\n"
     ]
    }
   ],
   "source": [
    "Select WEBNAME, CAST(REPLACE(REPLACE(IFNULL(\"GDP per Capita (PPP)\",0),',',''),'$','') AS DECIMAL(10,2)) as \"GDP/Capita ($)\" \n",
    "from EFI\n",
    "order by \"GDP/Capita ($)\" DESC\n",
    "limit 10;"
   ]
  },
  {
   "cell_type": "markdown",
   "metadata": {},
   "source": [
    "#### Problem 8: GDP/Capita gore son 10 ulke goster"
   ]
  },
  {
   "cell_type": "code",
   "execution_count": 8,
   "metadata": {},
   "outputs": [
    {
     "name": "stdout",
     "output_type": "stream",
     "text": [
      "WEBNAME     GDP/Capita ($)\r\n",
      "----------  --------------\r\n",
      "Somalia     0             \r\n",
      "Syria       0             \r\n",
      "CentralAfr  677           \r\n",
      "Burundi     735           \r\n",
      "Demcoratic  790           \r\n",
      "Niger       1164          \r\n",
      "Malawi      1167          \r\n",
      "Mozambique  1244          \r\n",
      "Yemen       1287          \r\n",
      "Liberia     1354          \r\n"
     ]
    }
   ],
   "source": [
    "SELECT WEBNAME, CAST(REPLACE(REPLACE(IFNULL(\"GDP per Capita (PPP)\",0),',',''),'$','') AS DECIMAL(10,2)) as \"GDP/Capita ($)\" \n",
    "from EFI\n",
    "order by \"GDP/Capita ($)\" ASC\n",
    "limit 10;"
   ]
  },
  {
   "cell_type": "markdown",
   "metadata": {},
   "source": [
    "#### Problem 9: en az 100 nufus olan ulkeleri GDP ve 2019 Score goster"
   ]
  },
  {
   "cell_type": "code",
   "execution_count": 9,
   "metadata": {
    "scrolled": true
   },
   "outputs": [
    {
     "name": "stdout",
     "output_type": "stream",
     "text": [
      "WEBNAME     2019 Score  GDP per Capita (PPP)  Population (Millions)\r\n",
      "----------  ----------  --------------------  ---------------------\r\n",
      "Bangladesh  55.6        $4,211                163.2                \r\n",
      "Brazil      51.9        $15,603               207.7                \r\n",
      "China       58.4        $16,660               1390.1               \r\n",
      "India       55.2        $7,183                1316.9               \r\n",
      "Indonesia   65.8        $12,377               262.0                \r\n",
      "Japan       72.1        $42,832               126.7                \r\n",
      "Mexico      64.7        $19,903               123.5                \r\n",
      "Nigeria     57.3        $5,929                188.7                \r\n",
      "Pakistan    55.0        $5,358                197.3                \r\n",
      "Philippine  63.8        $8,315                105.3                \r\n",
      "Russia      58.9        $27,834               144.0                \r\n",
      "UnitedStat  76.8        $59,501               325.9                \r\n"
     ]
    }
   ],
   "source": [
    "Select WEBNAME, \"2019 Score\", \"GDP per Capita (PPP)\", \"Population (Millions)\" from EFI\n",
    "where \"Population (Millions)\" > cast(100 as dec) and \"Population (Millions)\" not like \"%ppl%\";"
   ]
  },
  {
   "cell_type": "markdown",
   "metadata": {},
   "source": [
    "#### Problem 10: gov integrity gore ve score ilk 50 ulke INNER JOIN"
   ]
  },
  {
   "cell_type": "code",
   "execution_count": 10,
   "metadata": {},
   "outputs": [
    {
     "name": "stdout",
     "output_type": "stream",
     "text": [
      "WEBNAME     Score     \r\n",
      "----------  ----------\r\n",
      "Australia   80.9      \r\n",
      "Austria     72.0      \r\n",
      "Botswana    69.5      \r\n",
      "Canada      77.7      \r\n",
      "Chile       75.4      \r\n",
      "CzechRepub  73.7      \r\n",
      "Denmark     76.7      \r\n",
      "Estonia     76.6      \r\n",
      "Finland     74.9      \r\n",
      "Georgia     75.9      \r\n",
      "Germany     73.5      \r\n",
      "HongKong    90.2      \r\n",
      "Iceland     77.1      \r\n",
      "Ireland     80.5      \r\n",
      "Israel      72.8      \r\n",
      "Japan       72.1      \r\n",
      "Liechtenst  N/A       \r\n",
      "Luxembourg  75.9      \r\n",
      "Malaysia    74.0      \r\n",
      "Malta       68.6      \r\n",
      "Netherland  76.8      \r\n",
      "NewZealand  84.4      \r\n",
      "Norway      73.0      \r\n",
      "Qatar       72.6      \r\n",
      "Rwanda      71.1      \r\n",
      "Singapore   89.4      \r\n",
      "Somalia     N/A       \r\n",
      "SouthKorea  72.3      \r\n",
      "Sweden      75.2      \r\n",
      "Switzerlan  81.9      \r\n",
      "Taiwan      77.3      \r\n",
      "UnitedArab  77.6      \r\n",
      "UnitedKing  78.9      \r\n",
      "UnitedStat  76.8      \r\n",
      "Uruguay     68.6      \r\n"
     ]
    }
   ],
   "source": [
    "SELECT t1.WEBNAME, t1.Score from (select WEBNAME, \"2019 Score\" as Score from EFI order by \"2019 Score\" DESC limit 50) t1\n",
    "INNER JOIN\n",
    "(SELECT WEBNAME, \"Government Integrity\" from EFI order by \"Government Integrity\" DESC limit 50) t2\n",
    "on t1.WEBNAME = t2.WEBNAME\n",
    "group by t1.WEBNAME"
   ]
  },
  {
   "cell_type": "markdown",
   "metadata": {},
   "source": [
    "#### Problem 11: GDP ve Score gore ilk 50 ulke LEFT JOIN"
   ]
  },
  {
   "cell_type": "code",
   "execution_count": 11,
   "metadata": {},
   "outputs": [
    {
     "name": "stdout",
     "output_type": "stream",
     "text": [
      "WEBNAME     Score     \r\n",
      "----------  ----------\r\n",
      "Australia   80.9      \r\n",
      "Austria     72.0      \r\n",
      "Botswana    69.5      \r\n",
      "Bulgaria    69.0      \r\n",
      "Canada      77.7      \r\n",
      "Chile       75.4      \r\n",
      "Cyprus      68.1      \r\n",
      "CzechRepub  73.7      \r\n",
      "Denmark     76.7      \r\n",
      "Estonia     76.6      \r\n",
      "Finland     74.9      \r\n",
      "Georgia     75.9      \r\n",
      "Germany     73.5      \r\n",
      "HongKong    90.2      \r\n",
      "Iceland     77.1      \r\n",
      "Iraq        N/A       \r\n",
      "Ireland     80.5      \r\n",
      "Israel      72.8      \r\n",
      "Jamaica     68.6      \r\n",
      "Japan       72.1      \r\n",
      "Latvia      70.4      \r\n",
      "Libya       N/A       \r\n",
      "Liechtenst  N/A       \r\n",
      "Lithuania   74.2      \r\n",
      "Luxembourg  75.9      \r\n",
      "Macau       71.0      \r\n",
      "Macedonia   71.1      \r\n",
      "Malaysia    74.0      \r\n",
      "Malta       68.6      \r\n",
      "Mauritius   73.0      \r\n",
      "Netherland  76.8      \r\n",
      "NewZealand  84.4      \r\n",
      "Norway      73.0      \r\n",
      "Qatar       72.6      \r\n",
      "Romania     68.6      \r\n",
      "Rwanda      71.1      \r\n",
      "SaintLucia  68.7      \r\n",
      "Singapore   89.4      \r\n",
      "Somalia     N/A       \r\n",
      "SouthKorea  72.3      \r\n",
      "Sweden      75.2      \r\n",
      "Switzerlan  81.9      \r\n",
      "Syria       N/A       \r\n",
      "Taiwan      77.3      \r\n",
      "Thailand    68.3      \r\n",
      "UnitedArab  77.6      \r\n",
      "UnitedKing  78.9      \r\n",
      "UnitedStat  76.8      \r\n",
      "Uruguay     68.6      \r\n",
      "Yemen       N/A       \r\n"
     ]
    }
   ],
   "source": [
    "SELECT t1.WEBNAME, t1.Score from (select WEBNAME, \"2019 Score\" as Score from EFI order by \"2019 Score\" DESC limit 50) t1\n",
    "LEFT JOIN\n",
    "(SELECT WEBNAME, \"Government Integrity\" from EFI order by \"Government Integrity\" DESC limit 50) t2\n",
    "on t1.WEBNAME = t2.WEBNAME\n",
    "group by t1.WEBNAME"
   ]
  },
  {
   "cell_type": "markdown",
   "metadata": {},
   "source": [
    "#### Problem 12: GDP ve Score gore ilk 50 ulke INNER JOIN"
   ]
  },
  {
   "cell_type": "code",
   "execution_count": 12,
   "metadata": {},
   "outputs": [
    {
     "name": "stdout",
     "output_type": "stream",
     "text": [
      "WEBNAME     Score       GDP/Capita ($)\r\n",
      "----------  ----------  --------------\r\n",
      "Australia   80.9        50334         \r\n",
      "Austria     72.0        49869         \r\n",
      "Canada      77.7        48265         \r\n",
      "Cyprus      68.1        37023         \r\n",
      "CzechRepub  73.7        35512         \r\n",
      "Denmark     76.7        49883         \r\n",
      "Estonia     76.6        31750         \r\n",
      "Finland     74.9        44333         \r\n",
      "Germany     73.5        50425         \r\n",
      "HongKong    90.2        61393         \r\n",
      "Iceland     77.1        51842         \r\n",
      "Ireland     80.5        75538         \r\n",
      "Israel      72.8        36340         \r\n",
      "Japan       72.1        42832         \r\n",
      "Liechtenst  N/A         139100        \r\n",
      "Lithuania   74.2        32299         \r\n",
      "Luxembourg  75.9        106374        \r\n",
      "Macau       71.0        111629        \r\n",
      "Malaysia    74.0        29041         \r\n",
      "Malta       68.6        41945         \r\n",
      "Netherland  76.8        53635         \r\n",
      "NewZealand  84.4        38934         \r\n",
      "Norway      73.0        71831         \r\n",
      "Qatar       72.6        124529        \r\n",
      "Singapore   89.4        93906         \r\n",
      "SouthKorea  72.3        39434         \r\n",
      "Sweden      75.2        51475         \r\n",
      "Switzerlan  81.9        61422         \r\n",
      "Taiwan      77.3        50294         \r\n",
      "UnitedArab  77.6        67741         \r\n",
      "UnitedKing  78.9        44118         \r\n",
      "UnitedStat  76.8        59501         \r\n"
     ]
    }
   ],
   "source": [
    "SELECT t1.WEBNAME, t1.Score, t1.\"GDP/Capita ($)\" from (select WEBNAME, \"2019 Score\" as Score, CAST(REPLACE(REPLACE(IFNULL(\"GDP per Capita (PPP)\",0),',',''),'$','') AS DECIMAL(10,2)) as \"GDP/Capita ($)\" from EFI order by \"2019 Score\" DESC limit 50) t1\n",
    "INNER JOIN\n",
    "(SELECT WEBNAME, CAST(REPLACE(REPLACE(IFNULL(\"GDP per Capita (PPP)\",0),',',''),'$','') AS DECIMAL(10,2)) as \"GDP/Capita ($)\" from EFI order by \"GDP/Capita ($)\" DESC limit 50) t2\n",
    "on t1.WEBNAME = t2.WEBNAME\n",
    "group by t1.WEBNAME"
   ]
  },
  {
   "cell_type": "markdown",
   "metadata": {},
   "source": [
    "#### Problem 13: Financial Freedom ve score gore ilk 50 ulke LEFT JOIN"
   ]
  },
  {
   "cell_type": "code",
   "execution_count": 13,
   "metadata": {},
   "outputs": [
    {
     "name": "stdout",
     "output_type": "stream",
     "text": [
      "WEBNAME     Score       GDP/Capita ($)\r\n",
      "----------  ----------  --------------\r\n",
      "Australia   80.9        50334         \r\n",
      "Austria     72.0        49869         \r\n",
      "Canada      77.7        48265         \r\n",
      "Cyprus      68.1        37023         \r\n",
      "CzechRepub  73.7        35512         \r\n",
      "Denmark     76.7        49883         \r\n",
      "Estonia     76.6        31750         \r\n",
      "Finland     74.9        44333         \r\n",
      "Germany     73.5        50425         \r\n",
      "HongKong    90.2        61393         \r\n",
      "Iceland     77.1        51842         \r\n",
      "Ireland     80.5        75538         \r\n",
      "Israel      72.8        36340         \r\n",
      "Japan       72.1        42832         \r\n",
      "Liechtenst  N/A         139100        \r\n",
      "Lithuania   74.2        32299         \r\n",
      "Luxembourg  75.9        106374        \r\n",
      "Macau       71.0        111629        \r\n",
      "Malaysia    74.0        29041         \r\n",
      "Malta       68.6        41945         \r\n",
      "Netherland  76.8        53635         \r\n",
      "NewZealand  84.4        38934         \r\n",
      "Norway      73.0        71831         \r\n",
      "Qatar       72.6        124529        \r\n",
      "Singapore   89.4        93906         \r\n",
      "SouthKorea  72.3        39434         \r\n",
      "Sweden      75.2        51475         \r\n",
      "Switzerlan  81.9        61422         \r\n",
      "Taiwan      77.3        50294         \r\n",
      "UnitedArab  77.6        67741         \r\n",
      "UnitedKing  78.9        44118         \r\n",
      "UnitedStat  76.8        59501         \r\n"
     ]
    }
   ],
   "source": [
    "SELECT t1.WEBNAME, t1.Score, t1.\"GDP/Capita ($)\" from (select WEBNAME, \"2019 Score\" as Score, CAST(REPLACE(REPLACE(IFNULL(\"GDP per Capita (PPP)\",0),',',''),'$','') AS DECIMAL(10,2)) as \"GDP/Capita ($)\" from EFI order by \"2019 Score\" DESC limit 50) t1\n",
    "INNER JOIN\n",
    "(SELECT WEBNAME, CAST(REPLACE(REPLACE(IFNULL(\"GDP per Capita (PPP)\",0),',',''),'$','') AS DECIMAL(10,2)) as \"GDP/Capita ($)\" from EFI order by \"GDP/Capita ($)\" DESC limit 50) t2\n",
    "on t1.WEBNAME = t2.WEBNAME\n",
    "group by t1.WEBNAME"
   ]
  },
  {
   "cell_type": "markdown",
   "metadata": {},
   "source": [
    "#### Problem 14: gov integrity gore ve GDP ilk 50 ulke INNER JOIN"
   ]
  },
  {
   "cell_type": "code",
   "execution_count": 14,
   "metadata": {},
   "outputs": [
    {
     "name": "stdout",
     "output_type": "stream",
     "text": [
      "WEBNAME     Score       Financial Freedom\r\n",
      "----------  ----------  -----------------\r\n",
      "Australia   80.9        90               \r\n",
      "Austria     72.0        70               \r\n",
      "Botswana    69.5        70               \r\n",
      "Bulgaria    69.0        60               \r\n",
      "Canada      77.7        80               \r\n",
      "Chile       75.4        70               \r\n",
      "Cyprus      68.1        60               \r\n",
      "CzechRepub  73.7        80               \r\n",
      "Denmark     76.7        80               \r\n"
     ]
    }
   ],
   "source": [
    "SELECT t1.WEBNAME, t1.Score, t1.\"Financial Freedom\" from (select WEBNAME, \"2019 Score\" as Score, \"Financial Freedom\" from EFI order by \"2019 Score\" DESC limit 50) t1\n",
    "INNER JOIN\n",
    "(SELECT WEBNAME, \"Financial Freedom\" from EFI order by \"GDP/Capita ($)\" DESC limit 50) t2\n",
    "on t1.WEBNAME = t2.WEBNAME\n",
    "group by t1.WEBNAME"
   ]
  },
  {
   "cell_type": "markdown",
   "metadata": {},
   "source": [
    "#### Problem 15: Financial Freedom ve score gore ilk 50 ulke LEFT JOIN"
   ]
  },
  {
   "cell_type": "code",
   "execution_count": 15,
   "metadata": {},
   "outputs": [
    {
     "name": "stdout",
     "output_type": "stream",
     "text": [
      "WEBNAME     Score       Financial Freedom\r\n",
      "----------  ----------  -----------------\r\n",
      "Australia   80.9        90               \r\n",
      "Austria     72.0        70               \r\n",
      "Botswana    69.5        70               \r\n",
      "Bulgaria    69.0        60               \r\n",
      "Canada      77.7        80               \r\n",
      "Chile       75.4        70               \r\n",
      "Cyprus      68.1        60               \r\n",
      "CzechRepub  73.7        80               \r\n",
      "Denmark     76.7        80               \r\n",
      "Estonia     76.6        70               \r\n",
      "Finland     74.9        80               \r\n",
      "Georgia     75.9        70               \r\n",
      "Germany     73.5        70               \r\n",
      "HongKong    90.2        90               \r\n",
      "Iceland     77.1        70               \r\n",
      "Iraq        N/A         N/A              \r\n",
      "Ireland     80.5        70               \r\n",
      "Israel      72.8        70               \r\n",
      "Jamaica     68.6        50               \r\n",
      "Japan       72.1        60               \r\n",
      "Latvia      70.4        60               \r\n",
      "Libya       N/A         N/A              \r\n",
      "Liechtenst  N/A         80               \r\n",
      "Lithuania   74.2        70               \r\n",
      "Luxembourg  75.9        80               \r\n",
      "Macau       71.0        70               \r\n",
      "Macedonia   71.1        60               \r\n",
      "Malaysia    74.0        50               \r\n",
      "Malta       68.6        60               \r\n",
      "Mauritius   73.0        70               \r\n",
      "Netherland  76.8        80               \r\n",
      "NewZealand  84.4        80               \r\n",
      "Norway      73.0        60               \r\n",
      "Qatar       72.6        60               \r\n",
      "Romania     68.6        50               \r\n",
      "Rwanda      71.1        40               \r\n",
      "SaintLucia  68.7        40               \r\n",
      "Singapore   89.4        80               \r\n",
      "Somalia     N/A         N/A              \r\n",
      "SouthKorea  72.3        70               \r\n",
      "Sweden      75.2        80               \r\n",
      "Switzerlan  81.9        90               \r\n",
      "Syria       N/A         N/A              \r\n",
      "Taiwan      77.3        60               \r\n",
      "Thailand    68.3        60               \r\n",
      "UnitedArab  77.6        60               \r\n",
      "UnitedKing  78.9        80               \r\n",
      "UnitedStat  76.8        80               \r\n",
      "Uruguay     68.6        30               \r\n",
      "Yemen       N/A         N/A              \r\n"
     ]
    }
   ],
   "source": [
    "SELECT t1.WEBNAME, t1.Score, t1.\"Financial Freedom\" from (select WEBNAME, \"2019 Score\" as Score, \"Financial Freedom\" from EFI order by \"2019 Score\" DESC limit 50) t1\n",
    "LEFT JOIN\n",
    "(SELECT WEBNAME, \"Financial Freedom\" from EFI order by \"GDP/Capita ($)\" DESC limit 50) t2\n",
    "on t1.WEBNAME = t2.WEBNAME\n",
    "group by t1.WEBNAME"
   ]
  },
  {
   "cell_type": "code",
   "execution_count": null,
   "metadata": {},
   "outputs": [],
   "source": []
  }
 ],
 "metadata": {
  "kernelspec": {
   "display_name": "Sqlite3",
   "language": "sqlite3",
   "name": "sqlite3"
  },
  "language_info": {
   "codemirror_mode": "sql",
   "file_extension": ".sql",
   "mimetype": "text/x-sql",
   "name": "sqlite3"
  }
 },
 "nbformat": 4,
 "nbformat_minor": 2
}
