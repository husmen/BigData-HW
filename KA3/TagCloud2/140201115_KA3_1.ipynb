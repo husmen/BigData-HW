{
 "cells": [
  {
   "cell_type": "markdown",
   "metadata": {},
   "source": [
    "[TagCloud2: Build a tag cloud of a 2012 presidential debate. (Python3)](http://www.cse.msu.edu/~cse231/PracticeOfComputingUsingPython/06_Dictionaries/TagCloud2/)"
   ]
  },
  {
   "cell_type": "code",
   "execution_count": 1,
   "metadata": {},
   "outputs": [],
   "source": [
    "# Functions adapted from ProgrammingHistorian (updated to Python3)\n",
    "# http://niche.uwo.ca/programming-historian/index.php/Tag_clouds\n",
    "\n",
    "# Take one long string of words and put them in an HTML box.\n",
    "# If desired, width, background color & border can be changed in the function\n",
    "# This function stuffs the \"body\" string into the the HTML formatting string.\n",
    "def make_HTML_box(body):\n",
    "    '''Required -- body (string), a string of words\n",
    "       Return -- a string that specifies an HTML box containing the body\n",
    "    '''\n",
    "    box_str = \"\"\"<div style=\\\"\n",
    "    width: 640px;\n",
    "    background-color: rgb(250,250,250);\n",
    "    border: 1px grey solid;\n",
    "    text-align: center\\\" >{:s}</div>\n",
    "    \"\"\"\n",
    "    return box_str.format(body)\n",
    "\n",
    "def make_HTML_word(word,cnt,high,low):\n",
    "    ''' make a word with a font size to be placed in the box. Font size is scaled\n",
    "    between high and low (to be user set). high and low represent the high \n",
    "    and low counts in the document. cnt is the count of the word \n",
    "    Required -- word (string) to be formatted\n",
    "             -- cnt (int) count of occurances of word\n",
    "             -- high (int) highest word count in the document\n",
    "             -- low (int) lowest word count in the document\n",
    "    Return -- a string formatted for HTML that is scaled with respect to cnt'''\n",
    "    ratio = (cnt-low)/float(high-low)\n",
    "    font_size = high*ratio + (1-ratio)*low\n",
    "    font_size = int(font_size)\n",
    "    word_str = '<span style=\\\"font-size:{:s}px;\\\">{:s}</span>'\n",
    "    return word_str.format(str(font_size), word)\n",
    "\n",
    "def print_HTML_file(body,title):\n",
    "    ''' create a standard html page (file) with titles, header etc.\n",
    "    and add the body (an html box) to that page. File created is title+'.html'\n",
    "    Required -- body (string), a string that specifies an HTML box\n",
    "    Return -- nothing'''\n",
    "    fd = open(title+'.html','w')\n",
    "    the_str=\"\"\"\n",
    "    <html> <head>\n",
    "    <title>\"\"\"+title+\"\"\"</title>\n",
    "    </head>\n",
    "\n",
    "    <body>\n",
    "    <h1>\"\"\"+title+'</h1>'+'\\n'+body+'\\n'+\"\"\"<hr>\n",
    "    </body> </html>\n",
    "    \"\"\"\n",
    "    fd.write(the_str)\n",
    "    fd.close()"
   ]
  },
  {
   "cell_type": "code",
   "execution_count": 2,
   "metadata": {},
   "outputs": [
    {
     "name": "stdout",
     "output_type": "stream",
     "text": [
      "880\n",
      "917\n",
      "591\n"
     ]
    }
   ],
   "source": [
    "import re\n",
    "import nltk\n",
    "from IPython.core.display import display, HTML\n",
    "\n",
    "#from htmlFunctions import *\n",
    "\n",
    "# Load files\n",
    "debates_f = [\"debate.txt\",\"debateTWO.txt\"]\n",
    "stop_words_f = \"stopWords.txt\"\n",
    "\n",
    "debates = []\n",
    "stop_words = []\n",
    "\n",
    "for file in debates_f:\n",
    "    with open(file) as f:\n",
    "        data = f.read().split(\"\\n\")\n",
    "        debates.append(data)\n",
    "with open(stop_words_f) as f:\n",
    "    stop_words = f.read().split(\"\\n\")\n",
    "\n",
    "# Check correct loading\n",
    "for d in debates:\n",
    "    print(len(d))\n",
    "print(len(stop_words))"
   ]
  },
  {
   "cell_type": "code",
   "execution_count": 3,
   "metadata": {},
   "outputs": [
    {
     "name": "stdout",
     "output_type": "stream",
     "text": [
      "6034 6262\n"
     ]
    }
   ],
   "source": [
    "speaker1 = [\"PRESIDENT BARACK OBAMA\", \"PRESIDENT OBAMA\"]\n",
    "speaker2 = [\"MITT ROMNEY\", \"MR. ROMNEY\"]\n",
    "#script1 = []\n",
    "#script2 = []\n",
    "\n",
    "change = False\n",
    "speaker = 0\n",
    "scripts = [[],[]]\n",
    "\n",
    "for d in debates:\n",
    "    for l in d:\n",
    "        if l.startswith(speaker1[0] + \":\") or l.startswith(speaker1[1]):\n",
    "            speaker = 0\n",
    "            change = True\n",
    "        elif l.startswith(speaker2[0] + \":\") or l.startswith(speaker2[1]):\n",
    "            speaker = 1\n",
    "            change = True\n",
    "        else:\n",
    "            change = False\n",
    "        \n",
    "        if change:\n",
    "            splitpoint = l.find(\":\")\n",
    "            word_str = l[splitpoint + 1:].lower()\n",
    "        else:\n",
    "            word_str = l.lower()\n",
    "\n",
    "        word_tokens = re.findall(r\"\\w\\w\\w+\", word_str) # at least 3 characters long\n",
    "        filtered = [w for w in word_tokens if not w in stop_words]\n",
    "        scripts[speaker] = scripts[speaker] + filtered\n",
    "\n",
    "print(len(scripts[0]),len(scripts[1]))"
   ]
  },
  {
   "cell_type": "code",
   "execution_count": 4,
   "metadata": {},
   "outputs": [
    {
     "name": "stdout",
     "output_type": "stream",
     "text": [
      "governor: 150\n",
      "romney: 110\n",
      "make: 104\n",
      "people: 55\n",
      "president: 51\n",
      "jobs: 51\n",
      "tax: 50\n",
      "crowley: 49\n",
      "years: 42\n",
      "lehrer: 41\n",
      "don: 40\n",
      "middle: 35\n",
      "class: 33\n",
      "folks: 32\n",
      "plan: 31\n",
      "insurance: 30\n",
      "question: 27\n",
      "care: 27\n",
      "things: 27\n",
      "deficit: 27\n",
      "###\n",
      "people: 155\n",
      "president: 138\n",
      "don: 62\n",
      "years: 59\n",
      "jobs: 59\n",
      "make: 59\n",
      "lehrer: 59\n",
      "america: 56\n",
      "tax: 56\n",
      "percent: 51\n",
      "plan: 50\n",
      "government: 50\n",
      "number: 48\n",
      "cut: 47\n",
      "work: 39\n",
      "taxes: 38\n",
      "economy: 38\n",
      "question: 37\n",
      "put: 37\n",
      "country: 35\n"
     ]
    }
   ],
   "source": [
    "# Get frequencies\n",
    "\n",
    "# Calculate frequency distribution\n",
    "fdist1 = nltk.FreqDist(scripts[0])\n",
    "fdist2 = nltk.FreqDist(scripts[1])\n",
    "\n",
    "word_freq = [[],[]]\n",
    "freq = []\n",
    "# Output top 50 words\n",
    "\n",
    "for word, frequency in fdist1.most_common(20):\n",
    "    word_freq[0].append((word, frequency))\n",
    "    freq.append(frequency)\n",
    "    print(u'{}: {}'.format(word, frequency))\n",
    "print(\"###\")    \n",
    "for word, frequency in fdist2.most_common(20):\n",
    "    word_freq[1].append((word, frequency))\n",
    "    freq.append(frequency)\n",
    "    print(u'{}: {}'.format(word, frequency)) "
   ]
  },
  {
   "cell_type": "code",
   "execution_count": 7,
   "metadata": {},
   "outputs": [
    {
     "name": "stdout",
     "output_type": "stream",
     "text": [
      "155 27\n"
     ]
    },
    {
     "data": {
      "text/html": [
       "\n",
       "    <html> <head>\n",
       "    <title>TagCloud0</title>\n",
       "    </head>\n",
       "\n",
       "    <body>\n",
       "    <h1>TagCloud0</h1>\n",
       "<div style=\"\n",
       "    width: 640px;\n",
       "    background-color: rgb(250,250,250);\n",
       "    border: 1px grey solid;\n",
       "    text-align: center\" > <span style=\"font-size:150px;\">governor</span> <span style=\"font-size:110px;\">romney</span> <span style=\"font-size:104px;\">make</span> <span style=\"font-size:55px;\">people</span> <span style=\"font-size:51px;\">president</span> <span style=\"font-size:51px;\">jobs</span> <span style=\"font-size:50px;\">tax</span> <span style=\"font-size:49px;\">crowley</span> <span style=\"font-size:42px;\">years</span> <span style=\"font-size:41px;\">lehrer</span> <span style=\"font-size:40px;\">don</span> <span style=\"font-size:35px;\">middle</span> <span style=\"font-size:33px;\">class</span> <span style=\"font-size:32px;\">folks</span> <span style=\"font-size:31px;\">plan</span> <span style=\"font-size:30px;\">insurance</span> <span style=\"font-size:27px;\">question</span> <span style=\"font-size:27px;\">care</span> <span style=\"font-size:27px;\">things</span> <span style=\"font-size:27px;\">deficit</span></div>\n",
       "    \n",
       "<hr>\n",
       "    </body> </html>\n",
       "    "
      ],
      "text/plain": [
       "<IPython.core.display.HTML object>"
      ]
     },
     "metadata": {},
     "output_type": "display_data"
    },
    {
     "data": {
      "text/html": [
       "\n",
       "    <html> <head>\n",
       "    <title>TagCloud1</title>\n",
       "    </head>\n",
       "\n",
       "    <body>\n",
       "    <h1>TagCloud1</h1>\n",
       "<div style=\"\n",
       "    width: 640px;\n",
       "    background-color: rgb(250,250,250);\n",
       "    border: 1px grey solid;\n",
       "    text-align: center\" > <span style=\"font-size:155px;\">people</span> <span style=\"font-size:138px;\">president</span> <span style=\"font-size:62px;\">don</span> <span style=\"font-size:59px;\">years</span> <span style=\"font-size:59px;\">jobs</span> <span style=\"font-size:59px;\">make</span> <span style=\"font-size:59px;\">lehrer</span> <span style=\"font-size:56px;\">america</span> <span style=\"font-size:56px;\">tax</span> <span style=\"font-size:51px;\">percent</span> <span style=\"font-size:50px;\">plan</span> <span style=\"font-size:50px;\">government</span> <span style=\"font-size:48px;\">number</span> <span style=\"font-size:47px;\">cut</span> <span style=\"font-size:39px;\">work</span> <span style=\"font-size:38px;\">taxes</span> <span style=\"font-size:38px;\">economy</span> <span style=\"font-size:37px;\">question</span> <span style=\"font-size:37px;\">put</span> <span style=\"font-size:35px;\">country</span></div>\n",
       "    \n",
       "<hr>\n",
       "    </body> </html>\n",
       "    "
      ],
      "text/plain": [
       "<IPython.core.display.HTML object>"
      ]
     },
     "metadata": {},
     "output_type": "display_data"
    }
   ],
   "source": [
    "high_count=max(freq)\n",
    "low_count=min(freq)\n",
    "print(high_count, low_count)\n",
    "\n",
    "for i, pairs in enumerate(word_freq):\n",
    "    body=''\n",
    "    for word,cnt in pairs:\n",
    "        body = body + \" \" + make_HTML_word(word,cnt,high_count,low_count)\n",
    "    box = make_HTML_box(body)  # creates HTML in a box\n",
    "    print_HTML_file(box,'TagCloud' + str(i))  # writes HTML to file name 'testFile.html'\n",
    "    #display(HTML(box)) # Display HTML\n",
    "    display(HTML(filename = 'TagCloud' + str(i) + \".html\")) # Display HTML"
   ]
  },
  {
   "cell_type": "code",
   "execution_count": null,
   "metadata": {},
   "outputs": [],
   "source": []
  }
 ],
 "metadata": {
  "kernelspec": {
   "display_name": "Python 3",
   "language": "python",
   "name": "python3"
  },
  "language_info": {
   "codemirror_mode": {
    "name": "ipython",
    "version": 3
   },
   "file_extension": ".py",
   "mimetype": "text/x-python",
   "name": "python",
   "nbconvert_exporter": "python",
   "pygments_lexer": "ipython3",
   "version": "3.6.8"
  }
 },
 "nbformat": 4,
 "nbformat_minor": 2
}
